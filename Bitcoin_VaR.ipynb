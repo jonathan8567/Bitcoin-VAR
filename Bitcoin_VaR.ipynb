{
 "cells": [
  {
   "cell_type": "code",
   "execution_count": 18,
   "id": "c75a5c3e-c255-427e-94b3-1a2e21f95baa",
   "metadata": {},
   "outputs": [
    {
     "name": "stdout",
     "output_type": "stream",
     "text": [
      "[*********************100%***********************]  2 of 2 completed\n",
      "                 VaR99 Historical VaR99 Parametric\n",
      "--------------------------------------------------\n",
      "   BTC-GBP           -0.139           -0.108\n",
      "     ^FTSE           -0.039           -0.032\n"
     ]
    }
   ],
   "source": [
    "#Step 0: Import Packages\n",
    "\n",
    "import matplotlib.pyplot as plt\n",
    "import matplotlib.mlab as mlab\n",
    "import yfinance as yf\n",
    "import datetime as dt\n",
    "import numpy as np\n",
    "import pandas as pd\n",
    "from scipy.stats import norm\n",
    "\n",
    "#Step 1: Import data\n",
    "\n",
    "tickers = ['BTC-GBP','^FTSE']\n",
    "start = dt.datetime(2020, 1, 1)\n",
    "end = dt.datetime(2022, 6, 1)\n",
    "data = yf.download(tickers, start, end, interval=\"1d\")\n",
    "df = pd.DataFrame(data['Adj Close']).dropna()\n",
    "returns = np.log(df/df.shift(1))\n",
    "\n",
    "#Calculate VaR99 using the historical method\n",
    "var_99_hist = returns.quantile(.01, interpolation='midpoint')\n",
    "\n",
    "#Calculate VaR99 using the parametric method\n",
    "mean = np.mean(returns)\n",
    "st_dev = np.std(returns)\n",
    "VaR_99_par = norm.ppf(0.01,mean,st_dev)\n",
    "\n",
    "print('%16s %16s %16s' % ('','VaR99 Historical', 'VaR99 Parametric'))\n",
    "print(50 * '-')\n",
    "for pair in zip(tickers, var_99_hist, VaR_99_par):\n",
    "    print('%10s %16.3f %16.3f' % (pair[0], pair[1], pair[2]))"
   ]
  }
 ],
 "metadata": {
  "kernelspec": {
   "display_name": "Python 3",
   "language": "python",
   "name": "python3"
  },
  "language_info": {
   "codemirror_mode": {
    "name": "ipython",
    "version": 3
   },
   "file_extension": ".py",
   "mimetype": "text/x-python",
   "name": "python",
   "nbconvert_exporter": "python",
   "pygments_lexer": "ipython3",
   "version": "3.8.8"
  }
 },
 "nbformat": 4,
 "nbformat_minor": 5
}
