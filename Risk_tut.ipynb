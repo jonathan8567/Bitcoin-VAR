{
 "cells": [
  {
   "cell_type": "code",
   "execution_count": 4,
   "id": "3be39efc-4289-43c7-a026-2ea0055ecf5d",
   "metadata": {},
   "outputs": [],
   "source": [
    "import datetime as dt\n",
    "import yfinance as yf\n",
    "import matplotlib.pyplot as plt\n",
    "import numpy as np\n",
    "import pandas as pd\n",
    "from scipy.stats import norm "
   ]
  },
  {
   "cell_type": "code",
   "execution_count": 11,
   "id": "d9d98b97-cb99-476a-bed3-4e3b237da7e5",
   "metadata": {},
   "outputs": [
    {
     "name": "stdout",
     "output_type": "stream",
     "text": [
      "[*********************100%***********************]  1 of 1 completed\n"
     ]
    }
   ],
   "source": [
    "tickers = ['AAPL']\n",
    "start = dt.datetime(2001, 1, 1)\n",
    "end = dt.datetime(2021, 12, 31)\n",
    "data = yf.download(tickers, start, end, interval='1d')\n",
    "data = data['Adj Close']"
   ]
  },
  {
   "cell_type": "code",
   "execution_count": 12,
   "id": "6becc84f-77fd-4451-bbfd-9eb03b99b7a8",
   "metadata": {},
   "outputs": [
    {
     "name": "stdout",
     "output_type": "stream",
     "text": [
      "Date\n",
      "2001-01-03    0.096075\n",
      "2001-01-04    0.041128\n",
      "2001-01-05   -0.041128\n",
      "2001-01-08    0.011384\n",
      "2001-01-09    0.037043\n",
      "                ...   \n",
      "2021-12-23    0.003637\n",
      "2021-12-27    0.022715\n",
      "2021-12-28   -0.005784\n",
      "2021-12-29    0.000502\n",
      "2021-12-30   -0.006600\n",
      "Name: Adj Close, Length: 5282, dtype: float64\n"
     ]
    }
   ],
   "source": [
    "log_returns = np.log(data/data.shift()).dropna()\n",
    "print(log_returns)"
   ]
  },
  {
   "cell_type": "code",
   "execution_count": 13,
   "id": "7ac65fa8-132a-4a67-8c19-548c9080315c",
   "metadata": {},
   "outputs": [
    {
     "name": "stdout",
     "output_type": "stream",
     "text": [
      "Date\n",
      "2001-01-03         NaN\n",
      "2001-01-04    0.041128\n",
      "2001-01-05   -0.041128\n",
      "2001-01-08   -0.011384\n",
      "2001-01-09    0.037043\n",
      "                ...   \n",
      "2021-12-23    0.003637\n",
      "2021-12-27    0.022715\n",
      "2021-12-28   -0.005784\n",
      "2021-12-29   -0.000502\n",
      "2021-12-30   -0.006600\n",
      "Name: Adj Close, Length: 5282, dtype: float64\n"
     ]
    }
   ],
   "source": [
    "def TradingStrategy(returns):\n",
    "    position = returns.map(lambda x: -1 if x <= 0 else 1)\n",
    "    performance = position.shift(1) * returns\n",
    "    return performance\n",
    "\n",
    "outcome = TradingStrategy(log_returns)\n",
    "print(outcome)"
   ]
  },
  {
   "cell_type": "code",
   "execution_count": 14,
   "id": "9b550775-3dc6-45eb-a89b-a3b88a34044a",
   "metadata": {},
   "outputs": [],
   "source": [
    "df = pd.DataFrame([206, 205, 204, 205, 203, 205 ], columns=[\"returns\"])"
   ]
  },
  {
   "cell_type": "code",
   "execution_count": 22,
   "id": "17096fec-b0b0-48eb-b15b-cf7e72c4a79c",
   "metadata": {},
   "outputs": [
    {
     "name": "stdout",
     "output_type": "stream",
     "text": [
      "returns    1228\n",
      "dtype: int64\n",
      "returns    204.666667\n",
      "dtype: float64\n",
      "returns    0.942809\n",
      "dtype: float64\n"
     ]
    }
   ],
   "source": [
    "sum_df = df.sum()\n",
    "mean_df = df.mean()\n",
    "std_df = np.std(df)\n",
    "\n",
    "print(sum_df)\n",
    "print(mean_df)\n",
    "print(std_df)"
   ]
  },
  {
   "cell_type": "code",
   "execution_count": 26,
   "id": "3d02bbf5-c0f3-4112-a8d0-b1c951eb75d6",
   "metadata": {},
   "outputs": [
    {
     "name": "stdout",
     "output_type": "stream",
     "text": [
      "-0.02358299236720318\n",
      "-0.09252589988927411\n"
     ]
    }
   ],
   "source": [
    "perf_cum = np.exp(outcome.sum())\n",
    "ann = perf_cum ** (1/10) - 1\n",
    "vol = outcome.std() * np.sqrt(252)\n",
    "print(ann)\n",
    "rfr = 0.01\n",
    "sharpe = (ann-rfr)/vol\n",
    "print(sharpe)"
   ]
  },
  {
   "cell_type": "code",
   "execution_count": 30,
   "id": "8d529480-064a-473c-91ad-9dd282192e80",
   "metadata": {},
   "outputs": [
    {
     "name": "stdout",
     "output_type": "stream",
     "text": [
      "0.05313983011334053\n"
     ]
    }
   ],
   "source": [
    "mean = np.mean(outcome)\n",
    "st_dev = np.std(outcome)\n",
    "VaR_99_par = norm.ppf(0.99, mean, st_dev)\n",
    "print(VaR_99_par)"
   ]
  },
  {
   "cell_type": "code",
   "execution_count": 32,
   "id": "854f9b30-53c8-406d-b943-d999dcfc72a1",
   "metadata": {},
   "outputs": [
    {
     "name": "stdout",
     "output_type": "stream",
     "text": [
      "-0.0645130361103815\n"
     ]
    }
   ],
   "source": [
    "VaR_99_hist = outcome.quantile(0.01)\n",
    "print(VaR_99_hist)"
   ]
  },
  {
   "cell_type": "code",
   "execution_count": 34,
   "id": "922e9737-0126-4faf-98b3-4c942f1c1643",
   "metadata": {},
   "outputs": [
    {
     "name": "stdout",
     "output_type": "stream",
     "text": [
      "0\n",
      "1\n",
      "2\n",
      "Fizz\n",
      "4\n",
      "Buzz\n",
      "Fizz\n",
      "7\n",
      "8\n",
      "Fizz\n",
      "Buzz\n",
      "11\n",
      "Fizz\n",
      "13\n",
      "14\n",
      "FizzBuzz\n",
      "16\n",
      "17\n",
      "Fizz\n",
      "19\n",
      "Buzz\n",
      "Fizz\n",
      "22\n",
      "23\n",
      "Fizz\n",
      "Buzz\n",
      "26\n",
      "Fizz\n",
      "28\n",
      "29\n",
      "FizzBuzz\n",
      "31\n",
      "32\n",
      "Fizz\n",
      "34\n",
      "Buzz\n",
      "Fizz\n",
      "37\n",
      "38\n",
      "Fizz\n",
      "Buzz\n",
      "41\n",
      "Fizz\n",
      "43\n",
      "44\n",
      "FizzBuzz\n",
      "46\n",
      "47\n",
      "Fizz\n",
      "49\n",
      "Buzz\n",
      "Fizz\n",
      "52\n",
      "53\n",
      "Fizz\n",
      "Buzz\n",
      "56\n",
      "Fizz\n",
      "58\n",
      "59\n",
      "FizzBuzz\n",
      "61\n",
      "62\n",
      "Fizz\n",
      "64\n",
      "Buzz\n",
      "Fizz\n",
      "67\n",
      "68\n",
      "Fizz\n",
      "Buzz\n",
      "71\n",
      "Fizz\n",
      "73\n",
      "74\n",
      "FizzBuzz\n",
      "76\n",
      "77\n",
      "Fizz\n",
      "79\n",
      "Buzz\n",
      "Fizz\n",
      "82\n",
      "83\n",
      "Fizz\n",
      "Buzz\n",
      "86\n",
      "Fizz\n",
      "88\n",
      "89\n",
      "FizzBuzz\n",
      "91\n",
      "92\n",
      "Fizz\n",
      "94\n",
      "Buzz\n",
      "Fizz\n",
      "97\n",
      "98\n",
      "Fizz\n"
     ]
    }
   ],
   "source": [
    "for i in range(100):\n",
    "    if (i/3).is_integer() and (i/5).is_integer() and i!=0:\n",
    "        print('FizzBuzz')\n",
    "    elif (i/3).is_integer() and i!= 0:\n",
    "        print('Fizz')\n",
    "    elif (i/5).is_integer() and i!= 0:\n",
    "        print('Buzz')\n",
    "    else:\n",
    "        print(i)"
   ]
  }
 ],
 "metadata": {
  "kernelspec": {
   "display_name": "Python 3",
   "language": "python",
   "name": "python3"
  },
  "language_info": {
   "codemirror_mode": {
    "name": "ipython",
    "version": 3
   },
   "file_extension": ".py",
   "mimetype": "text/x-python",
   "name": "python",
   "nbconvert_exporter": "python",
   "pygments_lexer": "ipython3",
   "version": "3.8.8"
  }
 },
 "nbformat": 4,
 "nbformat_minor": 5
}
